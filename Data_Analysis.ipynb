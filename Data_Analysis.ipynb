{
 "cells": [
  {
   "cell_type": "code",
   "execution_count": null,
   "metadata": {},
   "outputs": [],
   "source": [
    "import warnings\n",
    "warnings.filterwarnings(\"ignore\")\n",
    "import pandas as pd\n",
    "pd.set_option('display.max_rows', 500)\n",
    "import matplotlib.pyplot as plt\n",
    "import numpy as np\n",
    "import seaborn as sns\n",
    "from sklearn.linear_model import LogisticRegression\n",
    "from sklearn.linear_model import LogisticRegressionCV\n",
    "from sklearn.model_selection import KFold\n",
    "from sklearn.model_selection import train_test_split\n",
    "from sklearn.metrics import roc_auc_score\n",
    "from sklearn.metrics import accuracy_score\n",
    "from sklearn.metrics import confusion_matrix\n",
    "from scipy.stats import pearsonr"
   ]
  },
  {
   "cell_type": "code",
   "execution_count": null,
   "metadata": {},
   "outputs": [],
   "source": [
    "df = pd.read_csv('data/responses.csv')\n",
    "df_original=df.copy()\n",
    "df.head()"
   ]
  },
  {
   "cell_type": "code",
   "execution_count": null,
   "metadata": {},
   "outputs": [],
   "source": [
    "columns=df.columns.tolist()\n",
    "print(columns)\n",
    "for col in columns:\n",
    "    print(col, df[col].dtypes)"
   ]
  },
  {
   "cell_type": "code",
   "execution_count": null,
   "metadata": {
    "scrolled": true
   },
   "outputs": [],
   "source": [
    "#number of null values per category\n",
    "nulls = df.isnull().sum().sort_values(ascending=False)\n",
    "nulls.plot(kind='bar', figsize=(25, 5))"
   ]
  },
  {
   "cell_type": "code",
   "execution_count": null,
   "metadata": {},
   "outputs": [],
   "source": [
    "#number of null values per entry (more than 1 missing value)\n",
    "nulls = df.isnull().sum(axis=1)[df.isnull().sum(axis=1)>1].sort_values(ascending=False)\n",
    "nulls.plot(kind='bar', figsize=(25, 5))"
   ]
  },
  {
   "cell_type": "code",
   "execution_count": null,
   "metadata": {},
   "outputs": [],
   "source": [
    "var_of_interest = 'Village - town'\n",
    "var_of_interest = 'Only child'\n",
    "df.dropna(subset=[var_of_interest], inplace=True)\n",
    "fig, ax = plt.subplots(nrows=1, ncols=2, figsize=(15, 5))\n",
    "sns.countplot(y=var_of_interest, data=df, ax=ax[0])\n",
    "sns.countplot(y=var_of_interest, hue='Gender', data=df, ax=ax[1])\n",
    "plt.xticks(fontsize=14)\n",
    "plt.yticks(fontsize=14)"
   ]
  },
  {
   "cell_type": "code",
   "execution_count": null,
   "metadata": {},
   "outputs": [],
   "source": [
    "#let us clean up stuff and make it numerical to get it ready for comparision, prediction tasks\n",
    "df=df_original.copy()\n",
    "print(df.Education.unique())\n",
    "mapping = {var_of_interest: {'city': 0, 'village': 1}}\n",
    "df.replace(mapping, inplace=True)\n",
    "\n",
    "mapping_gender = {\"Gender\": {'male': 0, 'female': 1}}\n",
    "df.replace(mapping_gender, inplace=True)\n",
    "\n",
    "mapping_house = {\"House - block of flats\": {'block of flats': 0, 'house/bungalow': 1}}\n",
    "df.replace(mapping_house, inplace=True)\n",
    "\n",
    "mapping_child = {\"Only child\": {'no': 0, 'yes': 1}}\n",
    "df.replace(mapping_child, inplace=True)\n",
    "\n",
    "mapping_hand = {\"Left - right handed\": {'left handed': 0, 'right handed': 1}}\n",
    "df.replace(mapping_hand, inplace=True)\n",
    "\n",
    "mapping_smoking = {\"Smoking\": {'never smoked':1, 'tried smoking':2, 'former smoker':3, 'current smoker':4}}\n",
    "df.replace(mapping_smoking, inplace=True)\n",
    "#df.Smoking.fillna(0, inplace=True)\n",
    "\n",
    "mapping_alc = {\"Alcohol\": {'drink a lot':3, 'social drinker':2, 'never':1}}\n",
    "df.replace(mapping_alc, inplace=True)\n",
    "#df.Alcohol.fillna(0, inplace=True)\n",
    "\n",
    "mapping_punct = {\"Punctuality\": {'i am always on time':2, 'i am often early':1, 'i am often running late':3}}\n",
    "df.replace(mapping_punct, inplace=True)\n",
    "#df.Punctuality.fillna(0, inplace=True)\n",
    "\n",
    "mapping_lying = {\"Lying\": {'never':1, 'sometimes':2, 'only to avoid hurting someone':3,'everytime it suits me':4}}\n",
    "df.replace(mapping_lying, inplace=True)\n",
    "#df.Lying.fillna(0, inplace=True)\n",
    "\n",
    "mapping_internet = {\"Internet usage\": {'few hours a day':3,'most of the day':4,'less than an hour a day':2,'no time at all':1}}\n",
    "df.replace(mapping_internet, inplace=True)\n",
    "#df[\"Internet usage\"].fillna(0, inplace=True)\n",
    "\n",
    "mapping_education = {\"Education\": {'college/bachelor degree':4, 'secondary school':3, 'primary school':2,'masters degree':5, 'doctorate degree':6, 'currently a primary school pupil':1}}\n",
    "df.replace(mapping_education, inplace=True)\n",
    "df.Education.fillna(0, inplace=True)\n",
    "print(df.Education.unique())\n",
    "\n",
    "for c in range(2):\n",
    "    print(\"Prozent female in\",c,\"is\",df.Gender[df.Gender==1][df[var_of_interest]==c].sum()/(len(df.Gender[df.Gender==0][df[var_of_interest]==c])+df.Gender[df.Gender==1][df[var_of_interest]==c].sum()))"
   ]
  },
  {
   "cell_type": "code",
   "execution_count": null,
   "metadata": {},
   "outputs": [],
   "source": [
    "fig, ax = plt.subplots(nrows=1, ncols=4, figsize=(20,5))\n",
    "df[\"all\"] = \"\"\n",
    "data = df.dropna(subset=['Height'])\n",
    "sns.violinplot(x='Height', y = \"all\", hue=var_of_interest, data=data, split=True, ax = ax[0]);\n",
    "data = df.dropna(subset=['Weight'])\n",
    "sns.violinplot(x='Weight', y = \"all\", hue=var_of_interest, data=data, split=True, ax = ax[1]);\n",
    "data = df.dropna(subset=['Age'])\n",
    "sns.violinplot(x='Age', y = \"all\", hue=var_of_interest, data=data, split=True, ax = ax[2]);\n",
    "\n",
    "var_of_int_ser = df[var_of_interest]\n",
    "plt.hist([df[var_of_int_ser==1].Age.dropna(),df[var_of_int_ser==0].Age.dropna()],\n",
    "             label=['village','city'], stacked=True, bins=30);\n",
    "ax[3].legend()"
   ]
  },
  {
   "cell_type": "code",
   "execution_count": null,
   "metadata": {},
   "outputs": [],
   "source": [
    "numerics=df.select_dtypes(include=['int64','float64','uint8','int32','bool'])\n",
    "numeric_columns=numerics.columns.tolist()\n",
    "numerics[\"all\"] = \"\"\n",
    "fig, ax = plt.subplots(nrows=4, ncols=len(columns)//4, figsize=(40,40))\n",
    "for i in range(len(numeric_columns)):\n",
    "    data = df.dropna(subset=[numeric_columns[i]])\n",
    "    try:\n",
    "        sns.violinplot(x=numeric_columns[i], y = \"all\", hue=var_of_interest, data=numerics, split=True, ax = ax[i//(len(columns)//4),i%(len(columns)//4)])\n",
    "    except:\n",
    "        continue\n",
    "    ax[i//(len(columns)//4),i%(len(columns)//4)].legend()\n",
    "plt.show()"
   ]
  },
  {
   "cell_type": "code",
   "execution_count": null,
   "metadata": {
    "scrolled": false
   },
   "outputs": [],
   "source": [
    "#exploratory analysis of correlations between variables. Don't say anything about causations when inspected like this.\n",
    "print(numerics.corr())\n",
    "#revenue and budget seems fairly correlated with a Spearman's correlation coefficent of 0.69 (excluding 0-values for revenue and budget in the records)\n",
    "print()\n",
    "#pair plot\n",
    "g=sns.pairplot(data=numerics,y_vars=var_of_interest,x_vars=numeric_columns,kind=\"reg\")\n",
    "g.fig.set_size_inches(150,15)"
   ]
  },
  {
   "cell_type": "code",
   "execution_count": null,
   "metadata": {},
   "outputs": [],
   "source": [
    "numerics.drop(columns=[\"all\"],inplace=True) #careful is happening inPlace for now\n",
    "numerics.drop(columns=[var_of_interest],inplace=True)\n",
    "\n",
    "numerics.fillna(numerics.mean(),inplace=True)\n",
    "print(numerics.mean())\n",
    "X = np.array(numerics)\n",
    "print(X)\n",
    "y = np.array(df[var_of_interest].fillna(0))\n",
    "X_train, X_dev, y_train, y_dev=train_test_split(X, y, test_size=0.2, stratify=y,random_state=42)\n",
    "clf_reg = LogisticRegressionCV(Cs=10,cv=5,solver='liblinear',class_weight='balanced',penalty='l1',scoring='roc_auc', random_state=42).fit(X_train,y_train)"
   ]
  },
  {
   "cell_type": "code",
   "execution_count": null,
   "metadata": {},
   "outputs": [],
   "source": [
    "y_predict = clf_reg.predict(X_dev)\n",
    "score = accuracy_score(y_dev, y_predict)\n",
    "confusion=confusion_matrix(y_dev, y_predict)\n",
    "print(\"Accuracy: %f\" % (score))\n",
    "print(confusion)"
   ]
  },
  {
   "cell_type": "code",
   "execution_count": null,
   "metadata": {},
   "outputs": [],
   "source": [
    "print(clf_reg.coef_)\n",
    "sort_index = np.argsort(np.abs(clf_reg.coef_[0]))\n",
    "sorted_features=[x for y, x in sorted(zip(sort_index, numerics.columns),reverse=True)]\n",
    "print(sorted_features)"
   ]
  },
  {
   "cell_type": "code",
   "execution_count": null,
   "metadata": {},
   "outputs": [],
   "source": [
    "df.corr()[var_of_interest]"
   ]
  },
  {
   "cell_type": "code",
   "execution_count": null,
   "metadata": {},
   "outputs": [],
   "source": [
    "df2=df.dropna()\n",
    "print(pearsonr(df2[var_of_interest], df2.Children))\n",
    "print(pearsonr(df2[var_of_interest], df2.Age))\n",
    "pearsonr(df2[var_of_interest], df2.Education)"
   ]
  },
  {
   "cell_type": "code",
   "execution_count": null,
   "metadata": {},
   "outputs": [],
   "source": [
    "var_of_interest = 'Loneliness'\n",
    "df.corr()[var_of_interest]"
   ]
  },
  {
   "cell_type": "code",
   "execution_count": null,
   "metadata": {},
   "outputs": [],
   "source": [
    "var_of_interest = 'Happiness in life'\n",
    "df.corr()[var_of_interest]"
   ]
  },
  {
   "cell_type": "code",
   "execution_count": null,
   "metadata": {},
   "outputs": [],
   "source": []
  }
 ],
 "metadata": {
  "kernelspec": {
   "display_name": "Python 3",
   "language": "python",
   "name": "python3"
  },
  "language_info": {
   "codemirror_mode": {
    "name": "ipython",
    "version": 3
   },
   "file_extension": ".py",
   "mimetype": "text/x-python",
   "name": "python",
   "nbconvert_exporter": "python",
   "pygments_lexer": "ipython3",
   "version": "3.6.8"
  }
 },
 "nbformat": 4,
 "nbformat_minor": 2
}
